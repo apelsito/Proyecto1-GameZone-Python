{
 "cells": [
  {
   "cell_type": "markdown",
   "metadata": {},
   "source": [
    "# Menú de selección"
   ]
  },
  {
   "cell_type": "code",
   "execution_count": 1,
   "metadata": {},
   "outputs": [
    {
     "name": "stdout",
     "output_type": "stream",
     "text": [
      "==== MENÚ DEL JUEGO ====\n",
      "1. Jugar\n",
      "2. Instrucciones\n",
      "3. Puntajes\n",
      "4. Salir\n",
      "=========================\n",
      "Has elegido la opción 3: Puntajes\n",
      "==== MENÚ DEL JUEGO ====\n",
      "1. Jugar\n",
      "2. Instrucciones\n",
      "3. Puntajes\n",
      "4. Salir\n",
      "=========================\n",
      "Has elegido la opción 1: Jugar\n",
      "==== MENÚ DEL JUEGO ====\n",
      "1. Jugar\n",
      "2. Instrucciones\n",
      "3. Puntajes\n",
      "4. Salir\n",
      "=========================\n",
      "Has elegido la opción 2: Instrucciones\n",
      "==== MENÚ DEL JUEGO ====\n",
      "1. Jugar\n",
      "2. Instrucciones\n",
      "3. Puntajes\n",
      "4. Salir\n",
      "=========================\n",
      "Has elegido la opción 1: Jugar\n",
      "==== MENÚ DEL JUEGO ====\n",
      "1. Jugar\n",
      "2. Instrucciones\n",
      "3. Puntajes\n",
      "4. Salir\n",
      "=========================\n",
      "Saliendo del juego...\n"
     ]
    }
   ],
   "source": [
    "# Definición de la clase\n",
    "class Juego:\n",
    "    def opcion1(self):\n",
    "        print(\"Has elegido la opción 1: Jugar\")\n",
    "        # Aquí va la lógica para jugar\n",
    "\n",
    "    def opcion2(self):\n",
    "        print(\"Has elegido la opción 2: Instrucciones\")\n",
    "        # Aquí va la lógica para mostrar instrucciones\n",
    "\n",
    "    def opcion3(self):\n",
    "        print(\"Has elegido la opción 3: Puntajes\")\n",
    "        # Aquí va la lógica para mostrar puntajes\n",
    "\n",
    "    def opcion4(self):\n",
    "        print(\"Has elegido la opción 4: Salir\")\n",
    "        # Aquí va la lógica para salir\n",
    "\n",
    "def mostrar_menu():\n",
    "    print(\"==== MENÚ DEL JUEGO ====\")\n",
    "    print(\"1. Jugar\")\n",
    "    print(\"2. Instrucciones\")\n",
    "    print(\"3. Puntajes\")\n",
    "    print(\"4. Salir\")\n",
    "    print(\"=========================\")\n",
    "\n",
    "def main():\n",
    "    juego = Juego()\n",
    "    while True:\n",
    "        mostrar_menu()\n",
    "        opcion = input(\"Elige una opción (1-4): \")\n",
    "\n",
    "        if opcion == '1':\n",
    "            juego.opcion1()\n",
    "        elif opcion == '2':\n",
    "            juego.opcion2()\n",
    "        elif opcion == '3':\n",
    "            juego.opcion3()\n",
    "        elif opcion == '4':\n",
    "            print(\"Saliendo del juego...\")\n",
    "            break\n",
    "        else:\n",
    "            print(\"Opción no válida. Intenta de nuevo.\")\n",
    "\n",
    "        # Esperar a que el usuario presione Enter antes de continuar\n",
    "        input(\"Presiona Enter para continuar...\")\n",
    "\n",
    "if __name__ == \"__main__\":\n",
    "    main()\n"
   ]
  }
 ],
 "metadata": {
  "kernelspec": {
   "display_name": "Python 3",
   "language": "python",
   "name": "python3"
  },
  "language_info": {
   "codemirror_mode": {
    "name": "ipython",
    "version": 3
   },
   "file_extension": ".py",
   "mimetype": "text/x-python",
   "name": "python",
   "nbconvert_exporter": "python",
   "pygments_lexer": "ipython3",
   "version": "3.11.9"
  }
 },
 "nbformat": 4,
 "nbformat_minor": 2
}
