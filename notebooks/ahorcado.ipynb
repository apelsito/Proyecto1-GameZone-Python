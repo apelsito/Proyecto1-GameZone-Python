{
 "cells": [
  {
   "cell_type": "markdown",
   "metadata": {},
   "source": [
    "# Ahorcado\n",
    "La máquina selecciona una palabra secreta, y se representa cada letra con un espacio en blanco o un guion bajo (\"_\").\n",
    "\n",
    "El objetivo del jugador que adivina es descubrir la palabra intentando adivinar una letra en cada turno.\n",
    "\n",
    "Si el jugador elige una letra correcta, se muestra en su posición correcta dentro de la palabra.\n",
    "\n",
    "Si la letra adivinada no está en la palabra, se dibuja una parte del cuerpo en la horca como penalización.\n",
    "\n",
    "El juego termina cuando el jugador adivina la palabra completa o cuando se dibuja por completo la figura en la horca (en este caso tendremos que indicar que el jugador ha sido derrotado por la máquina).\n",
    "\n",
    "# Pistas para desarrollar el juego\n",
    "\n",
    "Comienza definiendo una lista de palabras y haz que la máquina eliga una de manera aleatoria para que el jugador intente adivinar.\n",
    "\n",
    "Usa una lista para representar las letras no adivinadas con guiones bajos (\"_\") y muéstralo al jugador.\n",
    "\n",
    "Usa un bucle while para que el jugador pueda seguir adivinando hasta que descubra la palabra o alcance el número máximo de intentos permitidos.\n",
    "\n",
    "Compara cada letra adivinada por el jugador con las letras de la palabra secreta. Si la letra está presente, actualiza el tablero con esa letra en las posiciones correspondientes.\n",
    "\n",
    "Mantén un registro de las letras que el jugador ya ha adivinado y cuenta los intentos fallidos.\n",
    "\n",
    "Establece las condiciones para que el juego termine, ya sea porque el jugador adivinó la palabra correctamente o porque alcanzó el número máximo de intentos fallidos."
   ]
  },
  {
   "cell_type": "code",
   "execution_count": null,
   "metadata": {},
   "outputs": [],
   "source": []
  }
 ],
 "metadata": {
  "kernelspec": {
   "display_name": "Python 3",
   "language": "python",
   "name": "python3"
  },
  "language_info": {
   "codemirror_mode": {
    "name": "ipython",
    "version": 3
   },
   "file_extension": ".py",
   "mimetype": "text/x-python",
   "name": "python",
   "nbconvert_exporter": "python",
   "pygments_lexer": "ipython3",
   "version": "3.11.9"
  }
 },
 "nbformat": 4,
 "nbformat_minor": 2
}
