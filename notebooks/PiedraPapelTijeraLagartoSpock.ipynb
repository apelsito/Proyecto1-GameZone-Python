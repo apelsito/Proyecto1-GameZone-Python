{
 "cells": [
  {
   "cell_type": "markdown",
   "metadata": {},
   "source": [
    "# Piedra Papel Tijera Lagarto Spock"
   ]
  },
  {
   "cell_type": "markdown",
   "metadata": {},
   "source": [
    "En este juego, tanto el jugador como la máquina eligen una opción entre piedra, papel, tijera, lagarto y Spock.\n",
    "\n",
    "Las interacciones entre las opciones se resuelven de la siguiente manera:\n",
    "\n",
    "Piedra aplasta a tijera y aplasta a lagarto.\n",
    "\n",
    "Papel envuelve a piedra y refuta a Spock.\n",
    "\n",
    "Tijera corta a papel y decapita a lagarto.\n",
    "\n",
    "Lagarto envenena a Spock y devora a papel.\n",
    "\n",
    "Spock aplasta a tijera y vaporiza a piedra.\n",
    "\n",
    "El juego se basa en rondas, donde en cada una, el jugador selecciona una opción y la máquina elige otra aleatoriamente.\n",
    "\n",
    "El ganador de cada ronda se determina según las reglas mencionadas. El juego continúa hasta que se cumple una condición de victoria o derrota, como alcanzar un número determinado de victorias.\n",
    "\n",
    "Pistas para desarrollar el juego\n",
    "\n",
    "Comienza definiendo una lista con las cinco opciones: piedra, papel, tijera, lagarto y Spock.\n",
    "\n",
    "Implementa una función que permita al jugador seleccionar una opción y a la máquina elegir una opción aleatoria.\n",
    "\n",
    "Usa un bucle while para ejecutar múltiples rondas hasta que se alcance la condición de finalización (por ejemplo, el primero en ganar 3 rondas).\n",
    "\n",
    "Implementa la lógica de comparación para determinar quién gana cada ronda, basándote en las interacciones entre las opciones.\n",
    "\n",
    "Mantén un registro de las victorias de cada jugador y muéstralo en cada ronda.\n",
    "\n",
    "Establece las condiciones para que el juego termine, ya sea cuando uno de los jugadores alcance el número de victorias necesarias o cuando decidas implementar una cantidad fija de rondas."
   ]
  },
  {
   "cell_type": "code",
   "execution_count": 10,
   "metadata": {},
   "outputs": [],
   "source": [
    "\n",
    "\n"
   ]
  },
  {
   "cell_type": "code",
   "execution_count": 47,
   "metadata": {},
   "outputs": [
    {
     "name": "stdout",
     "output_type": "stream",
     "text": [
      "lagarto\n",
      "[{'lagarto': {'spock': 'Lagarto Envenena a Spock.', 'papel': 'Lagarto Devora a Papel.'}}]\n",
      "piedra\n",
      "[{'piedra': {'tijera': 'Piedra Aplasta a Tijera.', 'lagarto': 'Piedra Aplasta a Lagarto.'}}]\n"
     ]
    }
   ],
   "source": [
    "import random\n",
    "import pyfiglet\n",
    "from colorama import init, Fore\n",
    "\n",
    "recursos = [\n",
    "    {\"piedra\":{\"tijera\" : \"Piedra Aplasta a Tijera.\",\"lagarto\" : \"Piedra Aplasta a Lagarto.\"}},\n",
    "    {\"papel\" :{\"piedra\" : \"Papel Envuelve a Piedra.\",\"spock\" : \"Papel Refuta a Spock.\"}},\n",
    "    {\"tijera\":{\"papel\" : \"Tijera Corta a Papel.\",\"lagarto\" : \"Tijera Decapita a Lagarto.\"}},\n",
    "    {\"lagarto\":{\"spock\" : \"Lagarto Envenena a Spock.\",\"papel\" : \"Lagarto Devora a Papel.\"}},\n",
    "    {\"spock\":{\"tijera\" : \"Spock Aplasta a Tijera.\",\"piedra\" : \"Spock Vaporiza a Piedra.\"}}\n",
    "]\n",
    "\n",
    "def buscar_en_diccionario(entrada,dickcionario):\n",
    "    try:\n",
    "        dickcionario[entrada]\n",
    "        return True\n",
    "    except:\n",
    "        return False\n",
    "\n",
    "#def \n",
    "\n",
    "def batalla():\n",
    "    choose = [\"piedra\",\"papel\", \"tijera\",\"lagarto\" ,\"spock\"]\n",
    "    numero_random = random.randrange(0, 5, 1)\n",
    "    maquina_elige = choose[numero_random]\n",
    "    busqueda_maquina = list(filter(lambda recursom:buscar_en_diccionario(maquina_elige,recursom),recursos))\n",
    "    user = input(\"Piedra, Papel, Tijera, Lagarto o Spock?, elige: \")\n",
    "    userl = user.lower()\n",
    "    busqueda_user = list(filter(lambda recurso:buscar_en_diccionario(userl,recurso),recursos))\n",
    "    return\n",
    "\n",
    "\n",
    "\n",
    "batalla()\n"
   ]
  }
 ],
 "metadata": {
  "kernelspec": {
   "display_name": "Python 3",
   "language": "python",
   "name": "python3"
  },
  "language_info": {
   "codemirror_mode": {
    "name": "ipython",
    "version": 3
   },
   "file_extension": ".py",
   "mimetype": "text/x-python",
   "name": "python",
   "nbconvert_exporter": "python",
   "pygments_lexer": "ipython3",
   "version": "3.11.9"
  }
 },
 "nbformat": 4,
 "nbformat_minor": 2
}
