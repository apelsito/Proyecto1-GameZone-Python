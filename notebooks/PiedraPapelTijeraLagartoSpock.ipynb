{
 "cells": [
  {
   "cell_type": "markdown",
   "metadata": {},
   "source": [
    "# Piedra Papel Tijera Lagarto Spock"
   ]
  },
  {
   "cell_type": "markdown",
   "metadata": {},
   "source": [
    "En este juego, tanto el jugador como la máquina eligen una opción entre piedra, papel, tijera, lagarto y Spock.\n",
    "\n",
    "Las interacciones entre las opciones se resuelven de la siguiente manera:\n",
    "\n",
    "Piedra aplasta a tijera y aplasta a lagarto.\n",
    "\n",
    "Papel envuelve a piedra y refuta a Spock.\n",
    "\n",
    "Tijera corta a papel y decapita a lagarto.\n",
    "\n",
    "Lagarto envenena a Spock y devora a papel.\n",
    "\n",
    "Spock aplasta a tijera y vaporiza a piedra.\n",
    "\n",
    "El juego se basa en rondas, donde en cada una, el jugador selecciona una opción y la máquina elige otra aleatoriamente.\n",
    "\n",
    "El ganador de cada ronda se determina según las reglas mencionadas. El juego continúa hasta que se cumple una condición de victoria o derrota, como alcanzar un número determinado de victorias.\n",
    "\n",
    "Pistas para desarrollar el juego\n",
    "\n",
    "Comienza definiendo una lista con las cinco opciones: piedra, papel, tijera, lagarto y Spock.\n",
    "\n",
    "Implementa una función que permita al jugador seleccionar una opción y a la máquina elegir una opción aleatoria.\n",
    "\n",
    "Usa un bucle while para ejecutar múltiples rondas hasta que se alcance la condición de finalización (por ejemplo, el primero en ganar 3 rondas).\n",
    "\n",
    "Implementa la lógica de comparación para determinar quién gana cada ronda, basándote en las interacciones entre las opciones.\n",
    "\n",
    "Mantén un registro de las victorias de cada jugador y muéstralo en cada ronda.\n",
    "\n",
    "Establece las condiciones para que el juego termine, ya sea cuando uno de los jugadores alcance el número de victorias necesarias o cuando decidas implementar una cantidad fija de rondas."
   ]
  },
  {
   "cell_type": "code",
   "execution_count": null,
   "metadata": {},
   "outputs": [],
   "source": [
    "def batalla():\n",
    "    \n",
    "    return\n",
    "\n",
    "\n",
    "piedra = {\n",
    "    \"tijera\" : \"Piedra Aplasta a Tijera.\",\n",
    "    \"lagarto\" : \"Piedra Aplasta a Lagarto.\"\n",
    "}\n",
    "\n",
    "papel = {\n",
    "    \"piedra\" : \"Papel Envuelve a Piedra.\",\n",
    "    \"spock\" : \"Papel Refuta a Spock.\"\n",
    "}\n",
    "\n",
    "tijera = {\n",
    "    \"papel\" : \"Tijera Corta a Papel.\",\n",
    "    \"lagarto\" : \"Tijera Decapita a Lagarto.\"\n",
    "}\n",
    "\n",
    "lagarto = {\n",
    "    \"spock\" : \"Lagarto Envenena a Spock.\",\n",
    "    \"papel\" : \"Lagarto Devora a Papel.\"\n",
    "}\n",
    "\n",
    "spock = {\n",
    "    \"tijera\" : \"Spock Aplasta a Tijera.\",\n",
    "    \"piedra\" : \"Spock Vaporiza a Piedra.\"\n",
    "}\n",
    "\n"
   ]
  }
 ],
 "metadata": {
  "language_info": {
   "name": "python"
  }
 },
 "nbformat": 4,
 "nbformat_minor": 2
}
